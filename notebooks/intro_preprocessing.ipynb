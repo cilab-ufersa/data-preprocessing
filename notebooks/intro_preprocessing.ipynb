{
 "cells": [
  {
   "cell_type": "markdown",
   "metadata": {},
   "source": [
    "# Pré-processamento dos dados"
   ]
  },
  {
   "cell_type": "markdown",
   "metadata": {},
   "source": [
    "Nesse notebook, vamos introduzir as principais etapas de pré-processamento dos dados, bem como boas práticas e algumas técnicas. Iremos utilizar uma amostra do dataset de Infarto do Miocárdio disponível [aqui](https://figshare.le.ac.uk/articles/dataset/Myocardial_infarction_complications_Database/12045261?file=23581310).\n",
    "\n",
    "Em geral, essa etapa se divide em:\n",
    "\n",
    "- Limpeza dos dados\n",
    "- Transformação dos dados\n",
    "\n",
    "Mas antes de começarmos, precisamos entender um pouco sobre os tipos de dados."
   ]
  },
  {
   "cell_type": "markdown",
   "metadata": {},
   "source": [
    "## Introdução"
   ]
  },
  {
   "cell_type": "markdown",
   "metadata": {},
   "source": [
    "### Tipos de dados"
   ]
  },
  {
   "cell_type": "markdown",
   "metadata": {},
   "source": [
    "Quando falos dos dados, estamos nos referindo aos valores de cada atributo (coluna) do dataset.\n",
    "\n",
    "Uma das formas de se categorizar os tipos de dado é a partir de <font color='cyan'>Qualitativos</font> e <font color='cyan'>Quantitativos</font>.\n",
    "\n",
    "- <font color='cyan'>Qualitativos</font>: Expressam qualidade, natureza da informação, categoria.\n",
    "- <font color='cyan'>Quantitativos</font>: Expressam quantidades\n",
    "\n",
    "Os dados *Qualitativos* podem ser:\n",
    "- **Categóricos**: expressam categorias, geralmente são textuais (gato, cachorro...)\n",
    "- **Discretos**: expressam valores numéricos não contínuos (0, 1, 2, 3...)\n",
    "\n",
    "Os dados *Quantitativos* podem ser:\n",
    "- **Contínuos**: expressam valores contínuos (0.23, 1.99...)\n",
    "\n",
    "Dados textuais comumente são chamados também de categóricos ou de nominais."
   ]
  },
  {
   "cell_type": "markdown",
   "metadata": {},
   "source": [
    "> É importante ressaltar que essa definição pode variar em algumas literaturas"
   ]
  },
  {
   "cell_type": "markdown",
   "metadata": {},
   "source": [
    "**Exemplo:**\n",
    "\n",
    "No dataset abaixo, qual seria o tipo de dado de cada atributo?\n",
    "\n",
    "<center>\n",
    "\n",
    "![image.png](../figures/dataset_sample.png)\n",
    "\n",
    "</center>"
   ]
  },
  {
   "cell_type": "markdown",
   "metadata": {},
   "source": [
    "1. id: discreto\n",
    "2. idade: discreto\n",
    "3. renda: contínuo\n",
    "4. cidade: categórico\n",
    "5. uf: categórico\n",
    "6. default: discreto ou contínuo"
   ]
  },
  {
   "cell_type": "markdown",
   "metadata": {},
   "source": [
    "> Conhecer os tipos de dados é importante pois a maioria dos modelos de *Machine Learning* não \"gosta\" de trabalhar com valores textuais, e também em alguns casos, o senso de ordem nos dados pode levar a uma interpretação errada dos dados por parte do modelo."
   ]
  },
  {
   "cell_type": "markdown",
   "metadata": {},
   "source": [
    "<center>\n",
    "<div>\n",
    "<img src=../figures/words_x_numbers.png width=\"400\"/>\n",
    "</div>\n",
    "</center>"
   ]
  },
  {
   "cell_type": "markdown",
   "metadata": {},
   "source": [
    "Em resumo, no geral:\n",
    "\n",
    "- Buscamos trabalhar com dados com valores numéricos (contínuos ou discretos)\n",
    "- É importante saber diferenciar quando o valor discreto ou categórico tem sentido de ordem\n",
    "- Caso haja valores textuais, é preciso transformá-los em valores numéricos: veremos técnicas para isso"
   ]
  },
  {
   "cell_type": "markdown",
   "metadata": {},
   "source": [
    "### Qualidade dos dados"
   ]
  },
  {
   "cell_type": "markdown",
   "metadata": {},
   "source": [
    "Já entendemos os tipos de dados, porém na maioria das vezes os *datasets* possuem muita informação incorreta ou irrelevante, o que chamamos de *Dirty data*, ou dados sujos.\n",
    "\n",
    "Esses dados sujos podem ser:\n",
    "- valores errados;\n",
    "- valores mal-formatados;\n",
    "- valores faltantes;\n",
    "- duplicados;\n",
    "- etc.\n"
   ]
  },
  {
   "cell_type": "markdown",
   "metadata": {},
   "source": [
    "<center>\n",
    "\n",
    "<div>\n",
    "<img src=../figures/Least-enjoyable-part-of-data-science.webp/>\n",
    "</div>\n",
    "\n",
    "Fonte: [Dirty Data: How Much it Can Cost Your Business and How to Get Rid of it](https://www.cazoomi.com/blog/dirty-data-how-much-it-can-cost-your-business-and-how-to-get-rid-of-it/)\n",
    "\n",
    "</center>"
   ]
  },
  {
   "cell_type": "markdown",
   "metadata": {},
   "source": [
    "Por exemplo, se um dataset possui um atributo \"idade\", e uma ocorrências possui o valor \"gato\", claramente há um erro neste dado, pois não existe a idade \"gato\".\n",
    "\n",
    "Mas então, como tratamos esses casos?"
   ]
  },
  {
   "cell_type": "markdown",
   "metadata": {},
   "source": [
    "O processo de tratar o *dirty data* é chamado de limpeza de dados (*data cleaning* ou *data cleansing*), e coinsiste em remover ou corrigir dados incorretos ou faltantes.\n",
    "\n",
    "Existem várias formas de se realizar esse processo, as mais comuns são:\n",
    "\n",
    "- Remover colunas desnecessárias;\n",
    "- Remover uma linha (amostra) com dados incorretos ou faltantes;\n",
    "- Substituir valores incorretos pela média, mediana ou moda do atributo;\n",
    "- Preencher valores faltantes com a média, mediana ou moda do atributo.\n",
    "\n",
    "Para tal, cabe ao cientista saber avaliar qual a melhor técnica. Se o número de amostras com dados comprometidos é pequeno comparado a quantidade de dados no dataset, removê-las pode ser uma abordagem prática, porém caso a porcentagem de linhas removidas seja muito alta, isso pode comprometer a qualidade dos dados do ponto de vista do modelo.\n",
    "\n",
    "A seguir, vamos explorar algumas técnicas de limpeza dos dados."
   ]
  },
  {
   "cell_type": "markdown",
   "metadata": {},
   "source": [
    "Dependências"
   ]
  },
  {
   "cell_type": "code",
   "execution_count": 1,
   "metadata": {},
   "outputs": [],
   "source": [
    "import pandas as pd\n",
    "import numpy as np\n",
    "import matplotlib.pyplot as plt"
   ]
  },
  {
   "cell_type": "markdown",
   "metadata": {},
   "source": [
    "## Limpeza dos dados"
   ]
  },
  {
   "cell_type": "code",
   "execution_count": 2,
   "metadata": {},
   "outputs": [
    {
     "data": {
      "text/html": [
       "<div>\n",
       "<style scoped>\n",
       "    .dataframe tbody tr th:only-of-type {\n",
       "        vertical-align: middle;\n",
       "    }\n",
       "\n",
       "    .dataframe tbody tr th {\n",
       "        vertical-align: top;\n",
       "    }\n",
       "\n",
       "    .dataframe thead th {\n",
       "        text-align: right;\n",
       "    }\n",
       "</style>\n",
       "<table border=\"1\" class=\"dataframe\">\n",
       "  <thead>\n",
       "    <tr style=\"text-align: right;\">\n",
       "      <th></th>\n",
       "      <th>ID</th>\n",
       "      <th>AGE</th>\n",
       "      <th>SEX</th>\n",
       "      <th>INF_ANAM</th>\n",
       "      <th>STENOK_AN</th>\n",
       "      <th>FK_STENOK</th>\n",
       "      <th>IBS_POST</th>\n",
       "      <th>IBS_NASL</th>\n",
       "      <th>GB</th>\n",
       "      <th>SIM_GIPERT</th>\n",
       "      <th>...</th>\n",
       "      <th>JELUD_TAH</th>\n",
       "      <th>FIBR_JELUD</th>\n",
       "      <th>A_V_BLOK</th>\n",
       "      <th>OTEK_LANC</th>\n",
       "      <th>RAZRIV</th>\n",
       "      <th>DRESSLER</th>\n",
       "      <th>ZSN</th>\n",
       "      <th>REC_IM</th>\n",
       "      <th>P_IM_STEN</th>\n",
       "      <th>LET_IS</th>\n",
       "    </tr>\n",
       "  </thead>\n",
       "  <tbody>\n",
       "    <tr>\n",
       "      <th>0</th>\n",
       "      <td>1244</td>\n",
       "      <td>64.0</td>\n",
       "      <td>0</td>\n",
       "      <td>0.0</td>\n",
       "      <td>0.0</td>\n",
       "      <td>0.0</td>\n",
       "      <td>2.0</td>\n",
       "      <td>NaN</td>\n",
       "      <td>0.0</td>\n",
       "      <td>0.0</td>\n",
       "      <td>...</td>\n",
       "      <td>0</td>\n",
       "      <td>0</td>\n",
       "      <td>0</td>\n",
       "      <td>1</td>\n",
       "      <td>0</td>\n",
       "      <td>0</td>\n",
       "      <td>1</td>\n",
       "      <td>1</td>\n",
       "      <td>0</td>\n",
       "      <td>0</td>\n",
       "    </tr>\n",
       "    <tr>\n",
       "      <th>1</th>\n",
       "      <td>1301</td>\n",
       "      <td>61.0</td>\n",
       "      <td>1</td>\n",
       "      <td>0.0</td>\n",
       "      <td>0.0</td>\n",
       "      <td>0.0</td>\n",
       "      <td>2.0</td>\n",
       "      <td>NaN</td>\n",
       "      <td>2.0</td>\n",
       "      <td>0.0</td>\n",
       "      <td>...</td>\n",
       "      <td>0</td>\n",
       "      <td>1</td>\n",
       "      <td>0</td>\n",
       "      <td>0</td>\n",
       "      <td>0</td>\n",
       "      <td>0</td>\n",
       "      <td>1</td>\n",
       "      <td>0</td>\n",
       "      <td>0</td>\n",
       "      <td>0</td>\n",
       "    </tr>\n",
       "    <tr>\n",
       "      <th>2</th>\n",
       "      <td>624</td>\n",
       "      <td>72.0</td>\n",
       "      <td>1</td>\n",
       "      <td>0.0</td>\n",
       "      <td>3.0</td>\n",
       "      <td>2.0</td>\n",
       "      <td>1.0</td>\n",
       "      <td>NaN</td>\n",
       "      <td>0.0</td>\n",
       "      <td>1.0</td>\n",
       "      <td>...</td>\n",
       "      <td>0</td>\n",
       "      <td>0</td>\n",
       "      <td>0</td>\n",
       "      <td>0</td>\n",
       "      <td>0</td>\n",
       "      <td>0</td>\n",
       "      <td>0</td>\n",
       "      <td>0</td>\n",
       "      <td>0</td>\n",
       "      <td>0</td>\n",
       "    </tr>\n",
       "    <tr>\n",
       "      <th>3</th>\n",
       "      <td>1370</td>\n",
       "      <td>68.0</td>\n",
       "      <td>1</td>\n",
       "      <td>2.0</td>\n",
       "      <td>6.0</td>\n",
       "      <td>2.0</td>\n",
       "      <td>1.0</td>\n",
       "      <td>NaN</td>\n",
       "      <td>0.0</td>\n",
       "      <td>0.0</td>\n",
       "      <td>...</td>\n",
       "      <td>0</td>\n",
       "      <td>0</td>\n",
       "      <td>0</td>\n",
       "      <td>0</td>\n",
       "      <td>0</td>\n",
       "      <td>0</td>\n",
       "      <td>1</td>\n",
       "      <td>0</td>\n",
       "      <td>0</td>\n",
       "      <td>0</td>\n",
       "    </tr>\n",
       "    <tr>\n",
       "      <th>4</th>\n",
       "      <td>221</td>\n",
       "      <td>35.0</td>\n",
       "      <td>1</td>\n",
       "      <td>0.0</td>\n",
       "      <td>0.0</td>\n",
       "      <td>0.0</td>\n",
       "      <td>2.0</td>\n",
       "      <td>NaN</td>\n",
       "      <td>0.0</td>\n",
       "      <td>0.0</td>\n",
       "      <td>...</td>\n",
       "      <td>0</td>\n",
       "      <td>0</td>\n",
       "      <td>0</td>\n",
       "      <td>0</td>\n",
       "      <td>0</td>\n",
       "      <td>0</td>\n",
       "      <td>0</td>\n",
       "      <td>0</td>\n",
       "      <td>0</td>\n",
       "      <td>0</td>\n",
       "    </tr>\n",
       "  </tbody>\n",
       "</table>\n",
       "<p>5 rows × 124 columns</p>\n",
       "</div>"
      ],
      "text/plain": [
       "     ID   AGE  SEX  INF_ANAM  STENOK_AN  FK_STENOK  IBS_POST  IBS_NASL   GB   \n",
       "0  1244  64.0    0       0.0        0.0        0.0       2.0       NaN  0.0  \\\n",
       "1  1301  61.0    1       0.0        0.0        0.0       2.0       NaN  2.0   \n",
       "2   624  72.0    1       0.0        3.0        2.0       1.0       NaN  0.0   \n",
       "3  1370  68.0    1       2.0        6.0        2.0       1.0       NaN  0.0   \n",
       "4   221  35.0    1       0.0        0.0        0.0       2.0       NaN  0.0   \n",
       "\n",
       "   SIM_GIPERT  ...  JELUD_TAH  FIBR_JELUD  A_V_BLOK  OTEK_LANC  RAZRIV   \n",
       "0         0.0  ...          0           0         0          1       0  \\\n",
       "1         0.0  ...          0           1         0          0       0   \n",
       "2         1.0  ...          0           0         0          0       0   \n",
       "3         0.0  ...          0           0         0          0       0   \n",
       "4         0.0  ...          0           0         0          0       0   \n",
       "\n",
       "   DRESSLER  ZSN  REC_IM  P_IM_STEN  LET_IS  \n",
       "0         0    1       1          0       0  \n",
       "1         0    1       0          0       0  \n",
       "2         0    0       0          0       0  \n",
       "3         0    1       0          0       0  \n",
       "4         0    0       0          0       0  \n",
       "\n",
       "[5 rows x 124 columns]"
      ]
     },
     "execution_count": 2,
     "metadata": {},
     "output_type": "execute_result"
    }
   ],
   "source": [
    "df = pd.read_csv('../data/Myocardial infarction complications Database.csv')\n",
    "df = df.sample(20).reset_index(drop=True)       # Selecionando aleatoriamente uma amostra de 20 linhas\n",
    "df.head()"
   ]
  },
  {
   "cell_type": "markdown",
   "metadata": {},
   "source": [
    "O dataset possui 124 colunas (atributos).\n",
    "\n",
    "A partir dos [documentos descritivos](https://figshare.le.ac.uk/articles/dataset/Myocardial_infarction_complications_Database/12045261?file=22803572) disponibilizados pelos autores, sabemos que:\n",
    "\n",
    "1. As colunas 2-112 são as características dos pacientes com relação ao infarto do miocárdio, e podem ser os inputs do modelo posteriormente;\n",
    "2. As colunas 113-124 são as possíveis complicações causadas pela doença (target do modelo)\n",
    "\n",
    "Em reunião interna, foi decidido que iríamos tratar apenas da complicação *CHRONIC HEART FAILURE* (insuficiência cardíaca crônica), que é a coluna ZSN, logo, as demais colunas de output podem ser removidas. A coluna \"id\" também não é relevante e pode ser removida.\n",
    "\n",
    "> Para fins didáticos, iremos selecionar apenas 10 colunas de *input* para trabalharmos, porém na prática a remoção de alguma dessas colunas deve ser feita somente após avaliação do impacto no modelo"
   ]
  },
  {
   "cell_type": "code",
   "execution_count": 54,
   "metadata": {},
   "outputs": [],
   "source": [
    "input_data = df.iloc[:, 1:10]       # Selecionando apenas 10 colunas de input\n",
    "target_data = df['ZSN']"
   ]
  },
  {
   "cell_type": "code",
   "execution_count": 55,
   "metadata": {},
   "outputs": [
    {
     "data": {
      "text/html": [
       "<div>\n",
       "<style scoped>\n",
       "    .dataframe tbody tr th:only-of-type {\n",
       "        vertical-align: middle;\n",
       "    }\n",
       "\n",
       "    .dataframe tbody tr th {\n",
       "        vertical-align: top;\n",
       "    }\n",
       "\n",
       "    .dataframe thead th {\n",
       "        text-align: right;\n",
       "    }\n",
       "</style>\n",
       "<table border=\"1\" class=\"dataframe\">\n",
       "  <thead>\n",
       "    <tr style=\"text-align: right;\">\n",
       "      <th></th>\n",
       "      <th>AGE</th>\n",
       "      <th>SEX</th>\n",
       "      <th>INF_ANAM</th>\n",
       "      <th>STENOK_AN</th>\n",
       "      <th>FK_STENOK</th>\n",
       "      <th>IBS_POST</th>\n",
       "      <th>IBS_NASL</th>\n",
       "      <th>GB</th>\n",
       "      <th>SIM_GIPERT</th>\n",
       "    </tr>\n",
       "  </thead>\n",
       "  <tbody>\n",
       "    <tr>\n",
       "      <th>0</th>\n",
       "      <td>51.0</td>\n",
       "      <td>1</td>\n",
       "      <td>0.0</td>\n",
       "      <td>3.0</td>\n",
       "      <td>2.0</td>\n",
       "      <td>2.0</td>\n",
       "      <td>NaN</td>\n",
       "      <td>2.0</td>\n",
       "      <td>0.0</td>\n",
       "    </tr>\n",
       "    <tr>\n",
       "      <th>1</th>\n",
       "      <td>62.0</td>\n",
       "      <td>1</td>\n",
       "      <td>1.0</td>\n",
       "      <td>0.0</td>\n",
       "      <td>0.0</td>\n",
       "      <td>0.0</td>\n",
       "      <td>NaN</td>\n",
       "      <td>2.0</td>\n",
       "      <td>0.0</td>\n",
       "    </tr>\n",
       "    <tr>\n",
       "      <th>2</th>\n",
       "      <td>52.0</td>\n",
       "      <td>1</td>\n",
       "      <td>0.0</td>\n",
       "      <td>0.0</td>\n",
       "      <td>0.0</td>\n",
       "      <td>2.0</td>\n",
       "      <td>NaN</td>\n",
       "      <td>0.0</td>\n",
       "      <td>0.0</td>\n",
       "    </tr>\n",
       "    <tr>\n",
       "      <th>3</th>\n",
       "      <td>34.0</td>\n",
       "      <td>1</td>\n",
       "      <td>0.0</td>\n",
       "      <td>0.0</td>\n",
       "      <td>0.0</td>\n",
       "      <td>2.0</td>\n",
       "      <td>NaN</td>\n",
       "      <td>0.0</td>\n",
       "      <td>0.0</td>\n",
       "    </tr>\n",
       "    <tr>\n",
       "      <th>4</th>\n",
       "      <td>70.0</td>\n",
       "      <td>0</td>\n",
       "      <td>0.0</td>\n",
       "      <td>1.0</td>\n",
       "      <td>2.0</td>\n",
       "      <td>1.0</td>\n",
       "      <td>NaN</td>\n",
       "      <td>0.0</td>\n",
       "      <td>0.0</td>\n",
       "    </tr>\n",
       "  </tbody>\n",
       "</table>\n",
       "</div>"
      ],
      "text/plain": [
       "    AGE  SEX  INF_ANAM  STENOK_AN  FK_STENOK  IBS_POST  IBS_NASL   GB   \n",
       "0  51.0    1       0.0        3.0        2.0       2.0       NaN  2.0  \\\n",
       "1  62.0    1       1.0        0.0        0.0       0.0       NaN  2.0   \n",
       "2  52.0    1       0.0        0.0        0.0       2.0       NaN  0.0   \n",
       "3  34.0    1       0.0        0.0        0.0       2.0       NaN  0.0   \n",
       "4  70.0    0       0.0        1.0        2.0       1.0       NaN  0.0   \n",
       "\n",
       "   SIM_GIPERT  \n",
       "0         0.0  \n",
       "1         0.0  \n",
       "2         0.0  \n",
       "3         0.0  \n",
       "4         0.0  "
      ]
     },
     "execution_count": 55,
     "metadata": {},
     "output_type": "execute_result"
    }
   ],
   "source": [
    "input_data.head()"
   ]
  },
  {
   "cell_type": "code",
   "execution_count": 56,
   "metadata": {},
   "outputs": [
    {
     "data": {
      "text/plain": [
       "0    0\n",
       "1    0\n",
       "2    0\n",
       "3    0\n",
       "4    0\n",
       "Name: ZSN, dtype: int64"
      ]
     },
     "execution_count": 56,
     "metadata": {},
     "output_type": "execute_result"
    }
   ],
   "source": [
    "target_data.head()"
   ]
  },
  {
   "cell_type": "markdown",
   "metadata": {},
   "source": [
    "Como ambos os datasets de input e target possuem os mesmos indexes e não perderam a ordenação, podemos uní-los para termos novamente um único dataset"
   ]
  },
  {
   "cell_type": "code",
   "execution_count": 98,
   "metadata": {},
   "outputs": [
    {
     "data": {
      "text/html": [
       "<div>\n",
       "<style scoped>\n",
       "    .dataframe tbody tr th:only-of-type {\n",
       "        vertical-align: middle;\n",
       "    }\n",
       "\n",
       "    .dataframe tbody tr th {\n",
       "        vertical-align: top;\n",
       "    }\n",
       "\n",
       "    .dataframe thead th {\n",
       "        text-align: right;\n",
       "    }\n",
       "</style>\n",
       "<table border=\"1\" class=\"dataframe\">\n",
       "  <thead>\n",
       "    <tr style=\"text-align: right;\">\n",
       "      <th></th>\n",
       "      <th>AGE</th>\n",
       "      <th>SEX</th>\n",
       "      <th>INF_ANAM</th>\n",
       "      <th>STENOK_AN</th>\n",
       "      <th>FK_STENOK</th>\n",
       "      <th>IBS_POST</th>\n",
       "      <th>IBS_NASL</th>\n",
       "      <th>GB</th>\n",
       "      <th>SIM_GIPERT</th>\n",
       "      <th>ZSN</th>\n",
       "    </tr>\n",
       "  </thead>\n",
       "  <tbody>\n",
       "    <tr>\n",
       "      <th>0</th>\n",
       "      <td>51.0</td>\n",
       "      <td>1</td>\n",
       "      <td>0.0</td>\n",
       "      <td>3.0</td>\n",
       "      <td>2.0</td>\n",
       "      <td>2.0</td>\n",
       "      <td>NaN</td>\n",
       "      <td>2.0</td>\n",
       "      <td>0.0</td>\n",
       "      <td>0</td>\n",
       "    </tr>\n",
       "    <tr>\n",
       "      <th>1</th>\n",
       "      <td>62.0</td>\n",
       "      <td>1</td>\n",
       "      <td>1.0</td>\n",
       "      <td>0.0</td>\n",
       "      <td>0.0</td>\n",
       "      <td>0.0</td>\n",
       "      <td>NaN</td>\n",
       "      <td>2.0</td>\n",
       "      <td>0.0</td>\n",
       "      <td>0</td>\n",
       "    </tr>\n",
       "    <tr>\n",
       "      <th>2</th>\n",
       "      <td>52.0</td>\n",
       "      <td>1</td>\n",
       "      <td>0.0</td>\n",
       "      <td>0.0</td>\n",
       "      <td>0.0</td>\n",
       "      <td>2.0</td>\n",
       "      <td>NaN</td>\n",
       "      <td>0.0</td>\n",
       "      <td>0.0</td>\n",
       "      <td>0</td>\n",
       "    </tr>\n",
       "    <tr>\n",
       "      <th>3</th>\n",
       "      <td>34.0</td>\n",
       "      <td>1</td>\n",
       "      <td>0.0</td>\n",
       "      <td>0.0</td>\n",
       "      <td>0.0</td>\n",
       "      <td>2.0</td>\n",
       "      <td>NaN</td>\n",
       "      <td>0.0</td>\n",
       "      <td>0.0</td>\n",
       "      <td>0</td>\n",
       "    </tr>\n",
       "    <tr>\n",
       "      <th>4</th>\n",
       "      <td>70.0</td>\n",
       "      <td>0</td>\n",
       "      <td>0.0</td>\n",
       "      <td>1.0</td>\n",
       "      <td>2.0</td>\n",
       "      <td>1.0</td>\n",
       "      <td>NaN</td>\n",
       "      <td>0.0</td>\n",
       "      <td>0.0</td>\n",
       "      <td>0</td>\n",
       "    </tr>\n",
       "  </tbody>\n",
       "</table>\n",
       "</div>"
      ],
      "text/plain": [
       "    AGE  SEX  INF_ANAM  STENOK_AN  FK_STENOK  IBS_POST  IBS_NASL   GB   \n",
       "0  51.0    1       0.0        3.0        2.0       2.0       NaN  2.0  \\\n",
       "1  62.0    1       1.0        0.0        0.0       0.0       NaN  2.0   \n",
       "2  52.0    1       0.0        0.0        0.0       2.0       NaN  0.0   \n",
       "3  34.0    1       0.0        0.0        0.0       2.0       NaN  0.0   \n",
       "4  70.0    0       0.0        1.0        2.0       1.0       NaN  0.0   \n",
       "\n",
       "   SIM_GIPERT  ZSN  \n",
       "0         0.0    0  \n",
       "1         0.0    0  \n",
       "2         0.0    0  \n",
       "3         0.0    0  \n",
       "4         0.0    0  "
      ]
     },
     "execution_count": 98,
     "metadata": {},
     "output_type": "execute_result"
    }
   ],
   "source": [
    "data_clean = pd.concat([input_data, target_data], axis=1)\n",
    "data_clean.head()"
   ]
  },
  {
   "cell_type": "code",
   "execution_count": 99,
   "metadata": {},
   "outputs": [
    {
     "name": "stdout",
     "output_type": "stream",
     "text": [
      "AGE:[51. 62. 52. 34. 70. 65. 54. 30. 57. 38. 55. 76. 79. 49. 72. 61.]\n",
      "SEX:[1 0]\n",
      "INF_ANAM:[0. 1.]\n",
      "STENOK_AN:[ 3.  0.  1.  5.  6.  2. nan]\n",
      "FK_STENOK:[ 2.  0. nan]\n",
      "IBS_POST:[2. 0. 1.]\n",
      "IBS_NASL:[nan  0.]\n",
      "GB:[2. 0. 3. 1.]\n",
      "SIM_GIPERT:[0. 1.]\n",
      "ZSN:[0 1]\n"
     ]
    }
   ],
   "source": [
    "for col in data_clean:\n",
    "    print(f\"{col}:{data_clean[col].unique()}\")"
   ]
  },
  {
   "cell_type": "markdown",
   "metadata": {},
   "source": [
    "Podemos ver que\n",
    "- O atributo `AGE` pode ser considerado do tipo discreto\n",
    "- O atributo `SEX` é do tipo binário (categórico numérico - já foram processados para se tornarem discretos)\n",
    "- Todos os demais atributos de input são categóricos numérico - já foram processados para se tornarem discretos\n",
    "- O target ZSN é binário (categórico numérico - já foram processados para se tornarem discretos)"
   ]
  },
  {
   "cell_type": "markdown",
   "metadata": {},
   "source": [
    "Agora podemos explorar um pouco mais os dados. A função `describe` do `Pandas` permite uma visualização prática de algumas medidas estatísticas básicas do dataset como um todo."
   ]
  },
  {
   "cell_type": "code",
   "execution_count": 95,
   "metadata": {},
   "outputs": [
    {
     "data": {
      "text/html": [
       "<div>\n",
       "<style scoped>\n",
       "    .dataframe tbody tr th:only-of-type {\n",
       "        vertical-align: middle;\n",
       "    }\n",
       "\n",
       "    .dataframe tbody tr th {\n",
       "        vertical-align: top;\n",
       "    }\n",
       "\n",
       "    .dataframe thead th {\n",
       "        text-align: right;\n",
       "    }\n",
       "</style>\n",
       "<table border=\"1\" class=\"dataframe\">\n",
       "  <thead>\n",
       "    <tr style=\"text-align: right;\">\n",
       "      <th></th>\n",
       "      <th>AGE</th>\n",
       "      <th>SEX</th>\n",
       "      <th>INF_ANAM</th>\n",
       "      <th>STENOK_AN</th>\n",
       "      <th>FK_STENOK</th>\n",
       "      <th>IBS_POST</th>\n",
       "      <th>IBS_NASL</th>\n",
       "      <th>GB</th>\n",
       "      <th>SIM_GIPERT</th>\n",
       "      <th>ZSN</th>\n",
       "    </tr>\n",
       "  </thead>\n",
       "  <tbody>\n",
       "    <tr>\n",
       "      <th>count</th>\n",
       "      <td>20.000000</td>\n",
       "      <td>20.000000</td>\n",
       "      <td>20.000000</td>\n",
       "      <td>19.000000</td>\n",
       "      <td>19.000000</td>\n",
       "      <td>20.000000</td>\n",
       "      <td>1.0</td>\n",
       "      <td>20.000000</td>\n",
       "      <td>20.000000</td>\n",
       "      <td>20.000000</td>\n",
       "    </tr>\n",
       "    <tr>\n",
       "      <th>mean</th>\n",
       "      <td>57.700000</td>\n",
       "      <td>0.600000</td>\n",
       "      <td>0.300000</td>\n",
       "      <td>2.000000</td>\n",
       "      <td>1.052632</td>\n",
       "      <td>1.150000</td>\n",
       "      <td>0.0</td>\n",
       "      <td>1.050000</td>\n",
       "      <td>0.100000</td>\n",
       "      <td>0.050000</td>\n",
       "    </tr>\n",
       "    <tr>\n",
       "      <th>std</th>\n",
       "      <td>13.483323</td>\n",
       "      <td>0.502625</td>\n",
       "      <td>0.470162</td>\n",
       "      <td>2.426703</td>\n",
       "      <td>1.025978</td>\n",
       "      <td>0.812728</td>\n",
       "      <td>NaN</td>\n",
       "      <td>1.145931</td>\n",
       "      <td>0.307794</td>\n",
       "      <td>0.223607</td>\n",
       "    </tr>\n",
       "    <tr>\n",
       "      <th>min</th>\n",
       "      <td>30.000000</td>\n",
       "      <td>0.000000</td>\n",
       "      <td>0.000000</td>\n",
       "      <td>0.000000</td>\n",
       "      <td>0.000000</td>\n",
       "      <td>0.000000</td>\n",
       "      <td>0.0</td>\n",
       "      <td>0.000000</td>\n",
       "      <td>0.000000</td>\n",
       "      <td>0.000000</td>\n",
       "    </tr>\n",
       "    <tr>\n",
       "      <th>25%</th>\n",
       "      <td>51.750000</td>\n",
       "      <td>0.000000</td>\n",
       "      <td>0.000000</td>\n",
       "      <td>0.000000</td>\n",
       "      <td>0.000000</td>\n",
       "      <td>0.750000</td>\n",
       "      <td>0.0</td>\n",
       "      <td>0.000000</td>\n",
       "      <td>0.000000</td>\n",
       "      <td>0.000000</td>\n",
       "    </tr>\n",
       "    <tr>\n",
       "      <th>50%</th>\n",
       "      <td>57.000000</td>\n",
       "      <td>1.000000</td>\n",
       "      <td>0.000000</td>\n",
       "      <td>1.000000</td>\n",
       "      <td>2.000000</td>\n",
       "      <td>1.000000</td>\n",
       "      <td>0.0</td>\n",
       "      <td>0.500000</td>\n",
       "      <td>0.000000</td>\n",
       "      <td>0.000000</td>\n",
       "    </tr>\n",
       "    <tr>\n",
       "      <th>75%</th>\n",
       "      <td>70.000000</td>\n",
       "      <td>1.000000</td>\n",
       "      <td>1.000000</td>\n",
       "      <td>4.000000</td>\n",
       "      <td>2.000000</td>\n",
       "      <td>2.000000</td>\n",
       "      <td>0.0</td>\n",
       "      <td>2.000000</td>\n",
       "      <td>0.000000</td>\n",
       "      <td>0.000000</td>\n",
       "    </tr>\n",
       "    <tr>\n",
       "      <th>max</th>\n",
       "      <td>79.000000</td>\n",
       "      <td>1.000000</td>\n",
       "      <td>1.000000</td>\n",
       "      <td>6.000000</td>\n",
       "      <td>2.000000</td>\n",
       "      <td>2.000000</td>\n",
       "      <td>0.0</td>\n",
       "      <td>3.000000</td>\n",
       "      <td>1.000000</td>\n",
       "      <td>1.000000</td>\n",
       "    </tr>\n",
       "  </tbody>\n",
       "</table>\n",
       "</div>"
      ],
      "text/plain": [
       "             AGE        SEX   INF_ANAM  STENOK_AN  FK_STENOK   IBS_POST   \n",
       "count  20.000000  20.000000  20.000000  19.000000  19.000000  20.000000  \\\n",
       "mean   57.700000   0.600000   0.300000   2.000000   1.052632   1.150000   \n",
       "std    13.483323   0.502625   0.470162   2.426703   1.025978   0.812728   \n",
       "min    30.000000   0.000000   0.000000   0.000000   0.000000   0.000000   \n",
       "25%    51.750000   0.000000   0.000000   0.000000   0.000000   0.750000   \n",
       "50%    57.000000   1.000000   0.000000   1.000000   2.000000   1.000000   \n",
       "75%    70.000000   1.000000   1.000000   4.000000   2.000000   2.000000   \n",
       "max    79.000000   1.000000   1.000000   6.000000   2.000000   2.000000   \n",
       "\n",
       "       IBS_NASL         GB  SIM_GIPERT        ZSN  \n",
       "count       1.0  20.000000   20.000000  20.000000  \n",
       "mean        0.0   1.050000    0.100000   0.050000  \n",
       "std         NaN   1.145931    0.307794   0.223607  \n",
       "min         0.0   0.000000    0.000000   0.000000  \n",
       "25%         0.0   0.000000    0.000000   0.000000  \n",
       "50%         0.0   0.500000    0.000000   0.000000  \n",
       "75%         0.0   2.000000    0.000000   0.000000  \n",
       "max         0.0   3.000000    1.000000   1.000000  "
      ]
     },
     "execution_count": 95,
     "metadata": {},
     "output_type": "execute_result"
    }
   ],
   "source": [
    "data_clean.describe()"
   ]
  },
  {
   "cell_type": "markdown",
   "metadata": {},
   "source": [
    "Podemos extrair algumas informações, como:\n",
    "\n",
    "- A média de idade nas amostras selecionadas é em torno de 58 anos, o desvio padrão é baixo e a máxima e mínima estão dentro da realidade, ou seja, provavelmente não há *outliers*;\n",
    "- Para as demais colunas, a média e quartis não nos dão informação relevante, pois são valores discretos, categorias, não contínuos;\n",
    "- Pela contagem (count), há alguns valores vazios;\n",
    "- Pela coluna máxima e mínima, é possível ver que os valores estão dentro das categorias esperadas.\n",
    "\n"
   ]
  },
  {
   "cell_type": "markdown",
   "metadata": {},
   "source": [
    "Descobrindo qual a porcentagem de vazios nos dados"
   ]
  },
  {
   "cell_type": "code",
   "execution_count": 88,
   "metadata": {},
   "outputs": [],
   "source": [
    "def perc_empty(data: pd.DataFrame):\n",
    "    \"\"\"\n",
    "    Print the percentage of empty (NaN) data\n",
    "    \n",
    "    Args:\n",
    "        data (pd.DataFrame): dataset\n",
    "    \"\"\"\n",
    "    print(data.isna().sum()/data.shape[0])"
   ]
  },
  {
   "cell_type": "code",
   "execution_count": 89,
   "metadata": {},
   "outputs": [
    {
     "name": "stdout",
     "output_type": "stream",
     "text": [
      "AGE           0.00\n",
      "SEX           0.00\n",
      "INF_ANAM      0.00\n",
      "STENOK_AN     0.05\n",
      "FK_STENOK     0.05\n",
      "IBS_POST      0.00\n",
      "GB            0.00\n",
      "SIM_GIPERT    0.00\n",
      "ZSN           0.00\n",
      "dtype: float64\n"
     ]
    }
   ],
   "source": [
    "perc_empty(data_clean)"
   ]
  },
  {
   "cell_type": "markdown",
   "metadata": {},
   "source": [
    "Vemos que há 3 colunas com valores vazios: `STENOK_AN`, `FK_STENOK` e `IBS_NASL`. As duas primeiras possuem apenas 5% dos dados vazios, enquanto `IBS_NASL` possui 95%. Como estamos trabalhando com uma amostragem aleatória da base e não com ela completa, vamos optar por remover essa coluna, já que não há forma de preencher os dados de maneira satisfatória devido a grande quantidade de vazios (se estivéssemos trabalhando com a base completa, essa porcentagem provavelmente seria menor)."
   ]
  },
  {
   "cell_type": "code",
   "execution_count": 103,
   "metadata": {},
   "outputs": [
    {
     "data": {
      "text/html": [
       "<div>\n",
       "<style scoped>\n",
       "    .dataframe tbody tr th:only-of-type {\n",
       "        vertical-align: middle;\n",
       "    }\n",
       "\n",
       "    .dataframe tbody tr th {\n",
       "        vertical-align: top;\n",
       "    }\n",
       "\n",
       "    .dataframe thead th {\n",
       "        text-align: right;\n",
       "    }\n",
       "</style>\n",
       "<table border=\"1\" class=\"dataframe\">\n",
       "  <thead>\n",
       "    <tr style=\"text-align: right;\">\n",
       "      <th></th>\n",
       "      <th>AGE</th>\n",
       "      <th>SEX</th>\n",
       "      <th>INF_ANAM</th>\n",
       "      <th>STENOK_AN</th>\n",
       "      <th>FK_STENOK</th>\n",
       "      <th>IBS_POST</th>\n",
       "      <th>GB</th>\n",
       "      <th>SIM_GIPERT</th>\n",
       "      <th>ZSN</th>\n",
       "    </tr>\n",
       "  </thead>\n",
       "  <tbody>\n",
       "    <tr>\n",
       "      <th>0</th>\n",
       "      <td>51.0</td>\n",
       "      <td>1</td>\n",
       "      <td>0.0</td>\n",
       "      <td>3.0</td>\n",
       "      <td>2.0</td>\n",
       "      <td>2.0</td>\n",
       "      <td>2.0</td>\n",
       "      <td>0.0</td>\n",
       "      <td>0</td>\n",
       "    </tr>\n",
       "    <tr>\n",
       "      <th>1</th>\n",
       "      <td>62.0</td>\n",
       "      <td>1</td>\n",
       "      <td>1.0</td>\n",
       "      <td>0.0</td>\n",
       "      <td>0.0</td>\n",
       "      <td>0.0</td>\n",
       "      <td>2.0</td>\n",
       "      <td>0.0</td>\n",
       "      <td>0</td>\n",
       "    </tr>\n",
       "    <tr>\n",
       "      <th>2</th>\n",
       "      <td>52.0</td>\n",
       "      <td>1</td>\n",
       "      <td>0.0</td>\n",
       "      <td>0.0</td>\n",
       "      <td>0.0</td>\n",
       "      <td>2.0</td>\n",
       "      <td>0.0</td>\n",
       "      <td>0.0</td>\n",
       "      <td>0</td>\n",
       "    </tr>\n",
       "    <tr>\n",
       "      <th>3</th>\n",
       "      <td>34.0</td>\n",
       "      <td>1</td>\n",
       "      <td>0.0</td>\n",
       "      <td>0.0</td>\n",
       "      <td>0.0</td>\n",
       "      <td>2.0</td>\n",
       "      <td>0.0</td>\n",
       "      <td>0.0</td>\n",
       "      <td>0</td>\n",
       "    </tr>\n",
       "    <tr>\n",
       "      <th>4</th>\n",
       "      <td>70.0</td>\n",
       "      <td>0</td>\n",
       "      <td>0.0</td>\n",
       "      <td>1.0</td>\n",
       "      <td>2.0</td>\n",
       "      <td>1.0</td>\n",
       "      <td>0.0</td>\n",
       "      <td>0.0</td>\n",
       "      <td>0</td>\n",
       "    </tr>\n",
       "  </tbody>\n",
       "</table>\n",
       "</div>"
      ],
      "text/plain": [
       "    AGE  SEX  INF_ANAM  STENOK_AN  FK_STENOK  IBS_POST   GB  SIM_GIPERT  ZSN\n",
       "0  51.0    1       0.0        3.0        2.0       2.0  2.0         0.0    0\n",
       "1  62.0    1       1.0        0.0        0.0       0.0  2.0         0.0    0\n",
       "2  52.0    1       0.0        0.0        0.0       2.0  0.0         0.0    0\n",
       "3  34.0    1       0.0        0.0        0.0       2.0  0.0         0.0    0\n",
       "4  70.0    0       0.0        1.0        2.0       1.0  0.0         0.0    0"
      ]
     },
     "execution_count": 103,
     "metadata": {},
     "output_type": "execute_result"
    }
   ],
   "source": [
    "data_clean = data_clean.drop(columns=['IBS_NASL'])\n",
    "data_clean.head()"
   ]
  },
  {
   "cell_type": "markdown",
   "metadata": {},
   "source": [
    "As outras duas colunas podem ser preenchidas com, por exemplo, a moda (lembrando que como os valores são discretos, não faz sentido utilizar a média)"
   ]
  },
  {
   "cell_type": "code",
   "execution_count": 104,
   "metadata": {},
   "outputs": [
    {
     "data": {
      "text/plain": [
       "{'STENOK_AN': 0.0, 'FK_STENOK': 2.0}"
      ]
     },
     "execution_count": 104,
     "metadata": {},
     "output_type": "execute_result"
    }
   ],
   "source": [
    "# Dicionário com a primeira moda para cada uma das colunas\n",
    "values = {\n",
    "    'STENOK_AN': data_clean['STENOK_AN'].mode()[0],\n",
    "    'FK_STENOK': data_clean['FK_STENOK'].mode()[0],\n",
    "}\n",
    "values"
   ]
  },
  {
   "cell_type": "code",
   "execution_count": 105,
   "metadata": {},
   "outputs": [
    {
     "name": "stdout",
     "output_type": "stream",
     "text": [
      "AGE           0.0\n",
      "SEX           0.0\n",
      "INF_ANAM      0.0\n",
      "STENOK_AN     0.0\n",
      "FK_STENOK     0.0\n",
      "IBS_POST      0.0\n",
      "GB            0.0\n",
      "SIM_GIPERT    0.0\n",
      "ZSN           0.0\n",
      "dtype: float64\n"
     ]
    }
   ],
   "source": [
    "data_clean = data_clean.fillna(values)\n",
    "perc_empty(data_clean)"
   ]
  },
  {
   "cell_type": "markdown",
   "metadata": {},
   "source": [
    "Podemos ver agora que a porcentagem de vazios é 0."
   ]
  },
  {
   "cell_type": "markdown",
   "metadata": {},
   "source": [
    "Podemos definir os tipos de dados discretos como inteiro"
   ]
  },
  {
   "cell_type": "code",
   "execution_count": 106,
   "metadata": {},
   "outputs": [
    {
     "data": {
      "text/plain": [
       "AGE           float64\n",
       "SEX             int64\n",
       "INF_ANAM      float64\n",
       "STENOK_AN     float64\n",
       "FK_STENOK     float64\n",
       "IBS_POST      float64\n",
       "GB            float64\n",
       "SIM_GIPERT    float64\n",
       "ZSN             int64\n",
       "dtype: object"
      ]
     },
     "execution_count": 106,
     "metadata": {},
     "output_type": "execute_result"
    }
   ],
   "source": [
    "data_clean.dtypes"
   ]
  },
  {
   "cell_type": "code",
   "execution_count": 109,
   "metadata": {},
   "outputs": [
    {
     "data": {
      "text/html": [
       "<div>\n",
       "<style scoped>\n",
       "    .dataframe tbody tr th:only-of-type {\n",
       "        vertical-align: middle;\n",
       "    }\n",
       "\n",
       "    .dataframe tbody tr th {\n",
       "        vertical-align: top;\n",
       "    }\n",
       "\n",
       "    .dataframe thead th {\n",
       "        text-align: right;\n",
       "    }\n",
       "</style>\n",
       "<table border=\"1\" class=\"dataframe\">\n",
       "  <thead>\n",
       "    <tr style=\"text-align: right;\">\n",
       "      <th></th>\n",
       "      <th>AGE</th>\n",
       "      <th>SEX</th>\n",
       "      <th>INF_ANAM</th>\n",
       "      <th>STENOK_AN</th>\n",
       "      <th>FK_STENOK</th>\n",
       "      <th>IBS_POST</th>\n",
       "      <th>GB</th>\n",
       "      <th>SIM_GIPERT</th>\n",
       "      <th>ZSN</th>\n",
       "    </tr>\n",
       "  </thead>\n",
       "  <tbody>\n",
       "    <tr>\n",
       "      <th>0</th>\n",
       "      <td>51</td>\n",
       "      <td>1</td>\n",
       "      <td>0</td>\n",
       "      <td>3</td>\n",
       "      <td>2</td>\n",
       "      <td>2</td>\n",
       "      <td>2</td>\n",
       "      <td>0</td>\n",
       "      <td>0</td>\n",
       "    </tr>\n",
       "    <tr>\n",
       "      <th>1</th>\n",
       "      <td>62</td>\n",
       "      <td>1</td>\n",
       "      <td>1</td>\n",
       "      <td>0</td>\n",
       "      <td>0</td>\n",
       "      <td>0</td>\n",
       "      <td>2</td>\n",
       "      <td>0</td>\n",
       "      <td>0</td>\n",
       "    </tr>\n",
       "    <tr>\n",
       "      <th>2</th>\n",
       "      <td>52</td>\n",
       "      <td>1</td>\n",
       "      <td>0</td>\n",
       "      <td>0</td>\n",
       "      <td>0</td>\n",
       "      <td>2</td>\n",
       "      <td>0</td>\n",
       "      <td>0</td>\n",
       "      <td>0</td>\n",
       "    </tr>\n",
       "    <tr>\n",
       "      <th>3</th>\n",
       "      <td>34</td>\n",
       "      <td>1</td>\n",
       "      <td>0</td>\n",
       "      <td>0</td>\n",
       "      <td>0</td>\n",
       "      <td>2</td>\n",
       "      <td>0</td>\n",
       "      <td>0</td>\n",
       "      <td>0</td>\n",
       "    </tr>\n",
       "    <tr>\n",
       "      <th>4</th>\n",
       "      <td>70</td>\n",
       "      <td>0</td>\n",
       "      <td>0</td>\n",
       "      <td>1</td>\n",
       "      <td>2</td>\n",
       "      <td>1</td>\n",
       "      <td>0</td>\n",
       "      <td>0</td>\n",
       "      <td>0</td>\n",
       "    </tr>\n",
       "  </tbody>\n",
       "</table>\n",
       "</div>"
      ],
      "text/plain": [
       "   AGE  SEX  INF_ANAM  STENOK_AN  FK_STENOK  IBS_POST  GB  SIM_GIPERT  ZSN\n",
       "0   51    1         0          3          2         2   2           0    0\n",
       "1   62    1         1          0          0         0   2           0    0\n",
       "2   52    1         0          0          0         2   0           0    0\n",
       "3   34    1         0          0          0         2   0           0    0\n",
       "4   70    0         0          1          2         1   0           0    0"
      ]
     },
     "execution_count": 109,
     "metadata": {},
     "output_type": "execute_result"
    }
   ],
   "source": [
    "data_clean = data_clean.astype('int32')\n",
    "data_clean.head()"
   ]
  },
  {
   "cell_type": "markdown",
   "metadata": {},
   "source": [
    "## Visualização dos dados"
   ]
  },
  {
   "cell_type": "markdown",
   "metadata": {},
   "source": [
    "O *boxplot* é um gráfico útil para visualizar a distribuição dos dados e encontrar *outliers*, pois esse gráfico apresenta também a mediana, o valor mínimo, máximo, quartil 25% e quartil 75%."
   ]
  },
  {
   "cell_type": "code",
   "execution_count": null,
   "metadata": {},
   "outputs": [
    {
     "data": {
      "text/plain": [
       "<Axes: >"
      ]
     },
     "metadata": {},
     "output_type": "display_data"
    },
    {
     "data": {
      "image/png": "[encoded data removed]",
      "text/plain": [
       "<Figure size 640x480 with 1 Axes>"
      ]
     },
     "metadata": {},
     "output_type": "display_data"
    }
   ],
   "source": [
    "data_clean.boxplot(rot=45)\n",
    "plt.show()"
   ]
  },
  {
   "cell_type": "markdown",
   "metadata": {},
   "source": [
    "O histograma é um gráfico clássico utilizado para visualizar as distribuições de frequência dos dados. No eixo x tem-se os valores, e no eixo y tem-se a frequência que cada valor aparece no *dataset*."
   ]
  },
  {
   "cell_type": "code",
   "execution_count": null,
   "metadata": {},
   "outputs": [
    {
     "data": {
      "image/png": "[encoded data removed]",
      "text/plain": [
       "<Figure size 1600x800 with 9 Axes>"
      ]
     },
     "metadata": {},
     "output_type": "display_data"
    }
   ],
   "source": [
    "data_clean.hist(figsize=(16, 8))\n",
    "plt.show()"
   ]
  },
  {
   "cell_type": "markdown",
   "metadata": {},
   "source": [
    "## Transformação dos dados"
   ]
  },
  {
   "cell_type": "markdown",
   "metadata": {},
   "source": [
    "Os dados categóricos nominais já estão transformados de forma numérica, em um processo chamado `discretização`, que consiste em converter valores categóricos nominais em números discretos, mapeando cada categoria em um número inteiro.\n",
    "\n",
    "Exemplo:"
   ]
  },
  {
   "cell_type": "markdown",
   "metadata": {},
   "source": [
    "| Atributo nominal | Atributo convertido - discreto |\n",
    "| --- | --- |\n",
    "| Gato | 0 |\n",
    "| Cachorro | 1 |\n",
    "| Tigre | 2 |"
   ]
  },
  {
   "cell_type": "markdown",
   "metadata": {},
   "source": [
    "<div class=\"alert alert-block alert-warning\">\n",
    "<b>ATENÇÃO:</b> Essa técnica é simples e fácil de aplicar, porém nem sempre será a melhor opção, pois muitas vezes os modelos podem \"entender\" um sentido de ordenação nos dados (0 < 1 < 2), o que pode prejudicar o aprendizado do modelo.\n",
    "</div>\n",
    "\n"
   ]
  },
  {
   "cell_type": "markdown",
   "metadata": {},
   "source": [
    "Outra técnica bastante comum é a `One Hot Encoder`, que cria um novo atributo para cada valor categórico, e define o valor 1 para a categoria correta, e 0 para as demais. Para mais informações sobre esse método, veja [Sklearn - OneHotEncoder](https://scikit-learn.org/stable/modules/generated/sklearn.preprocessing.OneHotEncoder.html)"
   ]
  },
  {
   "cell_type": "markdown",
   "metadata": {},
   "source": [
    "| Atributo nominal | Gato |  Cachorro |  Tigre |\n",
    "| --- | --- | --- | --- |\n",
    "| Gato | 1 | 0 | 0 |\n",
    "| Cachorro | 0 | 1 | 0 |\n",
    "| Tigre | 0 | 0 | 1 |"
   ]
  },
  {
   "cell_type": "markdown",
   "metadata": {},
   "source": [
    "<div class=\"alert alert-block alert-warning\">\n",
    "<b>ATENÇÃO:</b> O One Hot Encoder tem a vantagem de não criar ordenação nos dados, porém deve ser usada com cautela, pois ela aumenta exponencialmente a quantidade de atributos do dataset, podendo gerar o que chamamos de <a href=https://medium.com/data-hackers/maldição-da-dimensionalidade-655e4342d64>Maldição da Dimensionalidade </a>.\n",
    "</div>\n"
   ]
  },
  {
   "cell_type": "markdown",
   "metadata": {},
   "source": [
    "### Normalização dos dados"
   ]
  },
  {
   "cell_type": "markdown",
   "metadata": {},
   "source": [
    "Em construção..."
   ]
  },
  {
   "cell_type": "markdown",
   "metadata": {},
   "source": [
    "## *Feature selection*"
   ]
  },
  {
   "cell_type": "markdown",
   "metadata": {},
   "source": [
    "Em construção..."
   ]
  }
 ],
 "metadata": {
  "kernelspec": {
   "display_name": ".venv",
   "language": "python",
   "name": "python3"
  },
  "language_info": {
   "codemirror_mode": {
    "name": "ipython",
    "version": 3
   },
   "file_extension": ".py",
   "mimetype": "text/x-python",
   "name": "python",
   "nbconvert_exporter": "python",
   "pygments_lexer": "ipython3",
   "version": "3.10.5"
  },
  "orig_nbformat": 4
 },
 "nbformat": 4,
 "nbformat_minor": 2
}
